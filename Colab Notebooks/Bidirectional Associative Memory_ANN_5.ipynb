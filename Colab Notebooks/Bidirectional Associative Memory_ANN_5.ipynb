{
 "cells": [
  {
   "cell_type": "code",
   "execution_count": 1,
   "id": "ad728819-b944-4e26-9e18-df7fb152122c",
   "metadata": {},
   "outputs": [],
   "source": [
    "import numpy as np"
   ]
  },
  {
   "cell_type": "code",
   "execution_count": 73,
   "id": "2eaf56f8-99d8-439f-97a0-fb6e3e6006c3",
   "metadata": {},
   "outputs": [],
   "source": [
    "def train(X,Y):\n",
    "    X = np.array(X)\n",
    "    Y = np.array(Y)\n",
    "    W = np.dot(X.T,Y)\n",
    "    BX = np.mean(X,axis=0)\n",
    "    BY = np.mean(Y,axis=0)\n",
    "    return W,BX,BY"
   ]
  },
  {
   "cell_type": "code",
   "execution_count": 79,
   "id": "fd9c257d-b555-4a0f-8d19-bdd0f9ac2ac9",
   "metadata": {},
   "outputs": [],
   "source": [
    "def predect(X,W,BX,BY):\n",
    "    y = np.dot(X,W) + BY\n",
    "    y = np.where(y >=0 ,1,-1 )\n",
    "    return y"
   ]
  },
  {
   "cell_type": "code",
   "execution_count": 5,
   "id": "9e901dba-b0ee-4503-b1e6-5c44341dc3a6",
   "metadata": {},
   "outputs": [],
   "source": [
    "# Given input\n",
    "X = [\n",
    "    [1,1,-1,-1],\n",
    "    [-1,-1,1,1]\n",
    "]\n",
    "Y = [\n",
    "    [1,-1],\n",
    "    [-1,1]\n",
    "]"
   ]
  },
  {
   "cell_type": "code",
   "execution_count": 105,
   "id": "2480453f-be2d-4a3a-8e8b-344eea9ead67",
   "metadata": {},
   "outputs": [
    {
     "name": "stdout",
     "output_type": "stream",
     "text": [
      "input:  [ 1  0  0 -1]  Output:  [ 1 -1]\n",
      "input:  [-1 -1 -1  1]  Output:  [-1  1]\n"
     ]
    }
   ],
   "source": [
    "W,BX,BY = train(X,Y)\n",
    "\n",
    "new_x = np.array([1,0,0,-1])\n",
    "y = predect(new_x,W,BX,BY)\n",
    "print(\"input: \",new_x,\" Output: \",y)\n",
    "\n",
    "new_x = np.array([-1,-1,-1,1])\n",
    "y = predect(new_x,W,BX,BY)\n",
    "print(\"input: \",new_x,\" Output: \",y)"
   ]
  }
 ],
 "metadata": {
  "kernelspec": {
   "display_name": "Python [conda env:base] *",
   "language": "python",
   "name": "conda-base-py"
  },
  "language_info": {
   "codemirror_mode": {
    "name": "ipython",
    "version": 3
   },
   "file_extension": ".py",
   "mimetype": "text/x-python",
   "name": "python",
   "nbconvert_exporter": "python",
   "pygments_lexer": "ipython3",
   "version": "3.12.8"
  }
 },
 "nbformat": 4,
 "nbformat_minor": 5
}
