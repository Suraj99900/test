{
 "cells": [
  {
   "cell_type": "code",
   "execution_count": 8,
   "id": "50ef2291-4dc5-4b68-9003-294fdd26ecb4",
   "metadata": {},
   "outputs": [],
   "source": [
    "import matplotlib.pyplot as plt\n",
    "import numpy as np"
   ]
  },
  {
   "cell_type": "code",
   "execution_count": 202,
   "id": "fb173aec-3909-4955-b04a-4a50f5e7cdd8",
   "metadata": {},
   "outputs": [],
   "source": [
    "X = np.array([\n",
    "    [-4,3],\n",
    "    [-1,0],\n",
    "    [0,4],\n",
    "    [5,0]\n",
    "])"
   ]
  },
  {
   "cell_type": "code",
   "execution_count": 204,
   "id": "f554faac-de88-4e66-9d60-4fba8d5d5825",
   "metadata": {},
   "outputs": [],
   "source": [
    "Y = np.array([\n",
    "    -1,-1,1,1\n",
    "])"
   ]
  },
  {
   "cell_type": "code",
   "execution_count": 206,
   "id": "8d7ae441-4d72-40d8-96a4-424efa42d0e6",
   "metadata": {},
   "outputs": [],
   "source": [
    "w = np.zeros(X.shape[1])\n",
    "b = 0\n",
    "a = 0.01\n",
    "Q = 1"
   ]
  },
  {
   "cell_type": "code",
   "execution_count": 208,
   "id": "9c8724a3-13eb-47df-ba96-fa3e9c67d576",
   "metadata": {},
   "outputs": [],
   "source": [
    "def perceptron(x, y, w, b, a, Q, epoch):\n",
    "    for i in range(epoch):\n",
    "        all_correct = True  # Assume all correct until proven otherwise\n",
    "\n",
    "        for j in range(x.shape[0]):\n",
    "            z = np.dot(x[j], w) + b\n",
    "            y_pred = 1 if z >= Q else -1\n",
    "\n",
    "            if y_pred != y[j]:\n",
    "                all_correct = False\n",
    "                w = w + a * y[j] * x[j]  # ← Fix here\n",
    "                b = b + a * y[j]         # ← And here\n",
    "\n",
    "        if all_correct:\n",
    "            print(f\"Training complete after {i+1} epochs\")\n",
    "            return w, b\n",
    "\n",
    "    print(\"Max epochs reached. Final weights and bias returned.\")\n",
    "    return w, b\n"
   ]
  },
  {
   "cell_type": "code",
   "execution_count": 210,
   "id": "350d71a7-f07c-47d5-8a8e-188cfbd2113e",
   "metadata": {},
   "outputs": [
    {
     "name": "stdout",
     "output_type": "stream",
     "text": [
      "Training complete after 7 epochs\n"
     ]
    },
    {
     "data": {
      "text/plain": [
       "(array([0.2 , 0.24]), 0.09999999999999999)"
      ]
     },
     "execution_count": 210,
     "metadata": {},
     "output_type": "execute_result"
    }
   ],
   "source": [
    "perceptron(X,Y,w,b,a,Q,100)"
   ]
  }
 ],
 "metadata": {
  "kernelspec": {
   "display_name": "Python [conda env:base] *",
   "language": "python",
   "name": "conda-base-py"
  },
  "language_info": {
   "codemirror_mode": {
    "name": "ipython",
    "version": 3
   },
   "file_extension": ".py",
   "mimetype": "text/x-python",
   "name": "python",
   "nbconvert_exporter": "python",
   "pygments_lexer": "ipython3",
   "version": "3.12.8"
  }
 },
 "nbformat": 4,
 "nbformat_minor": 5
}
