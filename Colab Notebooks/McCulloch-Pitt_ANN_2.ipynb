{
 "cells": [
  {
   "cell_type": "code",
   "execution_count": 3,
   "id": "5f456675-fc7e-463a-80b4-c09b34c66792",
   "metadata": {},
   "outputs": [],
   "source": [
    "import numpy as np\n",
    "import matplotlib.pyplot as plt"
   ]
  },
  {
   "cell_type": "code",
   "execution_count": 46,
   "id": "8258a929-4d37-48f5-9384-62b3be89f03e",
   "metadata": {},
   "outputs": [],
   "source": [
    "# Lets define the given \n",
    "x1 = 1 \n",
    "x2 = 0\n",
    "w1 = 1\n",
    "w2 = -1\n",
    "q = 1"
   ]
  },
  {
   "cell_type": "code",
   "execution_count": 86,
   "id": "f44bbc4d-122b-4c62-b708-8c880b47a88d",
   "metadata": {},
   "outputs": [],
   "source": [
    "def activationFunction(aInput,aWeight,threshold):\n",
    "    y_pred = (aInput[0]*aWeight[0]+aInput[1]*aWeight[1])\n",
    "    if(y_pred >= threshold ):\n",
    "        y_pred =  1\n",
    "    else:\n",
    "        y_pred = 0\n",
    "    return y_pred"
   ]
  },
  {
   "cell_type": "code",
   "execution_count": 48,
   "id": "7b0d1967-afae-42d6-8cb3-4b59344340f1",
   "metadata": {},
   "outputs": [],
   "source": [
    "aXData = np.array([x1,x2])\n",
    "aWData = np.array([w1,w2])"
   ]
  },
  {
   "cell_type": "code",
   "execution_count": 50,
   "id": "3f14414f-7392-4313-91e1-436b8a74973b",
   "metadata": {},
   "outputs": [
    {
     "data": {
      "text/plain": [
       "1"
      ]
     },
     "execution_count": 50,
     "metadata": {},
     "output_type": "execute_result"
    }
   ],
   "source": [
    "activationFunction(aXData,aWData,q)"
   ]
  },
  {
   "cell_type": "code",
   "execution_count": 88,
   "id": "7e14e9d3-701e-478a-bd18-ff51b9289c47",
   "metadata": {},
   "outputs": [
    {
     "name": "stdout",
     "output_type": "stream",
     "text": [
      "X1  X2 || AND-NOT \n",
      "--------------------\n",
      "0 || 0 || 0\n",
      "0 || 1 || 0\n",
      "1 || 0 || 1\n",
      "1 || 1 || 0\n"
     ]
    }
   ],
   "source": [
    "y_pred = []\n",
    "print(\"X1  X2 || AND-NOT \")\n",
    "print(\"--------------------\")\n",
    "for i in [0,1]:\n",
    "    for j in [0,1]:\n",
    "        print(i,'||',j,'||',activationFunction([i,j],aWData,1))\n",
    "\n"
   ]
  }
 ],
 "metadata": {
  "kernelspec": {
   "display_name": "Python [conda env:base] *",
   "language": "python",
   "name": "conda-base-py"
  },
  "language_info": {
   "codemirror_mode": {
    "name": "ipython",
    "version": 3
   },
   "file_extension": ".py",
   "mimetype": "text/x-python",
   "name": "python",
   "nbconvert_exporter": "python",
   "pygments_lexer": "ipython3",
   "version": "3.12.8"
  }
 },
 "nbformat": 4,
 "nbformat_minor": 5
}
